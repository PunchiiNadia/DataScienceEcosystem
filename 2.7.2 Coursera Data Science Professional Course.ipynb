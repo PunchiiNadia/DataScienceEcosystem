{
    "cells": [
        {
            "cell_type": "code",
            "execution_count": 1,
            "metadata": {
                "id": "ccebeaa0-853b-42fc-9741-49871f57e403",
                "msg_id": "7bc27d02-1b82-49fd-ad36-2d22380648ee"
            },
            "outputs": [
                {
                    "data": {
                        "text/html": "<div>\n<style scoped>\n    .dataframe tbody tr th:only-of-type {\n        vertical-align: middle;\n    }\n\n    .dataframe tbody tr th {\n        vertical-align: top;\n    }\n\n    .dataframe thead th {\n        text-align: right;\n    }\n</style>\n<table border=\"1\" class=\"dataframe\">\n  <thead>\n    <tr style=\"text-align: right;\">\n      <th></th>\n      <th>Unnamed: 0</th>\n      <th>age</th>\n      <th>sex</th>\n      <th>cp</th>\n      <th>trestbps</th>\n      <th>chol</th>\n      <th>fbs</th>\n      <th>restecg</th>\n      <th>thalach</th>\n      <th>exang</th>\n      <th>oldpeak</th>\n      <th>slope</th>\n      <th>ca</th>\n      <th>thal</th>\n      <th>target</th>\n    </tr>\n  </thead>\n  <tbody>\n    <tr>\n      <th>0</th>\n      <td>0</td>\n      <td>63</td>\n      <td>1</td>\n      <td>3</td>\n      <td>145</td>\n      <td>233</td>\n      <td>1</td>\n      <td>0</td>\n      <td>150</td>\n      <td>0</td>\n      <td>2.3</td>\n      <td>0</td>\n      <td>0</td>\n      <td>1</td>\n      <td>1</td>\n    </tr>\n    <tr>\n      <th>1</th>\n      <td>1</td>\n      <td>37</td>\n      <td>1</td>\n      <td>2</td>\n      <td>130</td>\n      <td>250</td>\n      <td>0</td>\n      <td>1</td>\n      <td>187</td>\n      <td>0</td>\n      <td>3.5</td>\n      <td>0</td>\n      <td>0</td>\n      <td>2</td>\n      <td>1</td>\n    </tr>\n    <tr>\n      <th>2</th>\n      <td>2</td>\n      <td>41</td>\n      <td>0</td>\n      <td>1</td>\n      <td>130</td>\n      <td>204</td>\n      <td>0</td>\n      <td>0</td>\n      <td>172</td>\n      <td>0</td>\n      <td>1.4</td>\n      <td>2</td>\n      <td>0</td>\n      <td>2</td>\n      <td>1</td>\n    </tr>\n    <tr>\n      <th>3</th>\n      <td>3</td>\n      <td>56</td>\n      <td>1</td>\n      <td>1</td>\n      <td>120</td>\n      <td>236</td>\n      <td>0</td>\n      <td>1</td>\n      <td>178</td>\n      <td>0</td>\n      <td>0.8</td>\n      <td>2</td>\n      <td>0</td>\n      <td>2</td>\n      <td>1</td>\n    </tr>\n    <tr>\n      <th>4</th>\n      <td>4</td>\n      <td>57</td>\n      <td>0</td>\n      <td>0</td>\n      <td>120</td>\n      <td>354</td>\n      <td>0</td>\n      <td>1</td>\n      <td>163</td>\n      <td>1</td>\n      <td>0.6</td>\n      <td>2</td>\n      <td>0</td>\n      <td>2</td>\n      <td>1</td>\n    </tr>\n    <tr>\n      <th>5</th>\n      <td>5</td>\n      <td>57</td>\n      <td>1</td>\n      <td>0</td>\n      <td>140</td>\n      <td>192</td>\n      <td>0</td>\n      <td>1</td>\n      <td>148</td>\n      <td>0</td>\n      <td>0.4</td>\n      <td>1</td>\n      <td>0</td>\n      <td>1</td>\n      <td>1</td>\n    </tr>\n    <tr>\n      <th>6</th>\n      <td>6</td>\n      <td>56</td>\n      <td>0</td>\n      <td>1</td>\n      <td>140</td>\n      <td>294</td>\n      <td>0</td>\n      <td>0</td>\n      <td>153</td>\n      <td>0</td>\n      <td>1.3</td>\n      <td>1</td>\n      <td>0</td>\n      <td>2</td>\n      <td>1</td>\n    </tr>\n    <tr>\n      <th>7</th>\n      <td>7</td>\n      <td>44</td>\n      <td>1</td>\n      <td>1</td>\n      <td>120</td>\n      <td>263</td>\n      <td>0</td>\n      <td>1</td>\n      <td>173</td>\n      <td>0</td>\n      <td>0.0</td>\n      <td>2</td>\n      <td>0</td>\n      <td>3</td>\n      <td>1</td>\n    </tr>\n    <tr>\n      <th>8</th>\n      <td>8</td>\n      <td>52</td>\n      <td>1</td>\n      <td>2</td>\n      <td>172</td>\n      <td>199</td>\n      <td>1</td>\n      <td>1</td>\n      <td>162</td>\n      <td>0</td>\n      <td>0.5</td>\n      <td>2</td>\n      <td>0</td>\n      <td>3</td>\n      <td>1</td>\n    </tr>\n    <tr>\n      <th>9</th>\n      <td>9</td>\n      <td>57</td>\n      <td>1</td>\n      <td>2</td>\n      <td>150</td>\n      <td>168</td>\n      <td>0</td>\n      <td>1</td>\n      <td>174</td>\n      <td>0</td>\n      <td>1.6</td>\n      <td>2</td>\n      <td>0</td>\n      <td>2</td>\n      <td>1</td>\n    </tr>\n  </tbody>\n</table>\n</div>",
                        "text/plain": "   Unnamed: 0  age  sex  cp  trestbps  chol  fbs  restecg  thalach  exang  \\\n0           0   63    1   3       145   233    1        0      150      0   \n1           1   37    1   2       130   250    0        1      187      0   \n2           2   41    0   1       130   204    0        0      172      0   \n3           3   56    1   1       120   236    0        1      178      0   \n4           4   57    0   0       120   354    0        1      163      1   \n5           5   57    1   0       140   192    0        1      148      0   \n6           6   56    0   1       140   294    0        0      153      0   \n7           7   44    1   1       120   263    0        1      173      0   \n8           8   52    1   2       172   199    1        1      162      0   \n9           9   57    1   2       150   168    0        1      174      0   \n\n   oldpeak  slope  ca  thal  target  \n0      2.3      0   0     1       1  \n1      3.5      0   0     2       1  \n2      1.4      2   0     2       1  \n3      0.8      2   0     2       1  \n4      0.6      2   0     2       1  \n5      0.4      1   0     1       1  \n6      1.3      1   0     2       1  \n7      0.0      2   0     3       1  \n8      0.5      2   0     3       1  \n9      1.6      2   0     2       1  "
                    },
                    "execution_count": 1,
                    "metadata": {},
                    "output_type": "execute_result"
                }
            ],
            "source": "# The code was removed by Watson Studio for sharing."
        },
        {
            "cell_type": "markdown",
            "metadata": {
                "id": "d86f7fe6-e4e8-45a4-9c4f-a987d750a12f"
            },
            "source": "This program prints Hello, World!"
        },
        {
            "cell_type": "code",
            "execution_count": 2,
            "metadata": {
                "id": "5837d37f-0823-4ff4-8e08-c22cee425f1f"
            },
            "outputs": [
                {
                    "name": "stdout",
                    "output_type": "stream",
                    "text": "Hello World!\n"
                }
            ],
            "source": "print(\"Hello World!\")"
        }
    ],
    "metadata": {
        "kernelspec": {
            "display_name": "Python 3.11 with Spark",
            "language": "python3",
            "name": "python311"
        },
        "language_info": {
            "codemirror_mode": {
                "name": "ipython",
                "version": 3
            },
            "file_extension": ".py",
            "mimetype": "text/x-python",
            "name": "python",
            "nbconvert_exporter": "python",
            "pygments_lexer": "ipython3",
            "version": "3.11.9"
        }
    },
    "nbformat": 4,
    "nbformat_minor": 4
}